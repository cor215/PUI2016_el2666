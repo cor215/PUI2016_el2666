{
 "cells": [
  {
   "cell_type": "markdown",
   "metadata": {},
   "source": [
    "Formulate the Null hypothesis in words and in formulae for the 4 experiments below:\n",
    "\n",
    "### **1. Do diets help lose more fat than the exercise?**\n",
    "\n",
    "Experimental setup: you have a test and a control sample.\n",
    "\n",
    "### H0: The test sample  who has been on a diet for 3 months shows the same or less (mean) weight loss (W0) than the control sample (W1) who has been exercising for 3 months.\n",
    "\n",
    "### **H0: W0 - W1 <= 0**\n",
    "\n",
    "### Ha: W0 - W1 < 0\n",
    "\n",
    "a = 0.05\n",
    "\n",
    "### **2. Do American trust the president?**\n",
    "\n",
    "POLL RESULTS: On May 16, 1994, Newsweek reported the results of a public opinion poll that asked: “From everything you know about Bill Clinton, does he have the honesty and integrity you expect in a president?” (p. 23). Poll surveyed 518 adults and 233, or 0.45 of them answered yes.\n",
    "\n",
    "### H0 : The proportion of survey respondents who trust Bill Clinton is more than 45 percent, or:\n",
    "\n",
    "### H0 : p > 0.45\n",
    "\n",
    "### Ha: The proportion of survey respondents who trust Bill Clinton is 45 percent, or:\n",
    "\n",
    "### Ha: p = 0.45\n",
    "\n",
    "\n",
    "Help source: http://www.pitt.edu/~upjecon/MCG/STAT/HypTest.pdf\n",
    "\n",
    "### **3. Effectiveness of nicotine patches to quit smoking.**\n",
    "\n",
    "Experimental setup: measure cessation rates for smokers randomly assigned to use a nicotine patch versus a placebo patch.\n",
    "\n",
    "###  H0: The number of smokers who stopped smoking within 3 months after being assigned a nicotine patch (P1) is the same or lower than the number of smokers who stoped smoking within 3 months after being assigned a placebo patch (P0).\n",
    "\n",
    "### H0: P1 - P0 <= 0\n",
    "### Ha: P1 - P0 > 0\n",
    "\n",
    "a = 0.05\n",
    "\n",
    "### **4. Quantify the danger of smoking for pregnant women.**\n",
    "\n",
    "Experimemtal setup: measure IQ of children at ages 1, 2, 3, and 4 years of age.\n",
    "\n",
    "### H0: IQ of children (mean, IQ1) from pregnant women who had been smoking over a year before and during pregnancy at ages 1, 2, 3, and 4 years old is the same or higher than IQ of children (mean, IQ0) from pregnant women who were non-smokers.\n",
    "\n",
    "### H0: IQ1 - IQ0 >= 0\n",
    "\n",
    "### Ha: IQ1 - IQ0 < 0\n",
    "\n",
    "a = 0.05\n"
   ]
  },
  {
   "cell_type": "code",
   "execution_count": null,
   "metadata": {
    "collapsed": true
   },
   "outputs": [],
   "source": []
  }
 ],
 "metadata": {
  "kernelspec": {
   "display_name": "PUI2016_Python3",
   "language": "python",
   "name": "pui2016_python3"
  },
  "language_info": {
   "codemirror_mode": {
    "name": "ipython",
    "version": 3
   },
   "file_extension": ".py",
   "mimetype": "text/x-python",
   "name": "python",
   "nbconvert_exporter": "python",
   "pygments_lexer": "ipython3",
   "version": "3.5.2"
  }
 },
 "nbformat": 4,
 "nbformat_minor": 0
}
