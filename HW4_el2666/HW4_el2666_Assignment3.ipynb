{
 "cells": [
  {
   "cell_type": "code",
   "execution_count": 2,
   "metadata": {
    "collapsed": false
   },
   "outputs": [],
   "source": [
    "import os\n",
    "import sys\n",
    "import numpy as np\n",
    "import pylab as pl\n",
    "\n",
    "\n",
    "import json\n",
    "import os\n"
   ]
  },
  {
   "cell_type": "markdown",
   "metadata": {},
   "source": [
    "## NULL HYPOTHESIS: the % of former prisoners employed after release is the same or lower for candidates who participated in the program as for the control group, significance level p=0.05\n",
    "\n",
    "## $H_0: P_0 - P_1 \\geq$ 0\n",
    "\n",
    "## $H_a: P_0 - P_1 $< 0\n",
    "\n",
    "$\\alpha$ = 0.05\n",
    "\n",
    "this is a TEST OF PROPORTIONS. we use the Binomial distribution since it is a yes/no (bernulli) test for each subject: the former inmate was or was not ever employed in a CEO transitional job (second row in the table above):\n",
    "\n",
    "$P_0=0.035, P_1=0.701$"
   ]
  },
  {
   "cell_type": "code",
   "execution_count": 13,
   "metadata": {
    "collapsed": false
   },
   "outputs": [
    {
     "name": "stdout",
     "output_type": "stream",
     "text": [
      "we must assess the statistical significance\n"
     ]
    }
   ],
   "source": [
    "alpha=0.05\n",
    "P_0 = 3.5 * 0.01 \n",
    "P_1 = 70.1 * 0.01\n",
    "\n",
    "if P_0-P_1 >= 0:\n",
    "    print (\"the Null holds\")\n",
    "else:\n",
    "    print (\"we must assess the statistical significance\")\n",
    "\n",
    "n_0 = 409\n",
    "n_1 = 564\n",
    "\n",
    "Nt_0 = P_0 * n_0\n",
    "Nt_1 = P_1 * n_1"
   ]
  },
  {
   "cell_type": "code",
   "execution_count": 14,
   "metadata": {
    "collapsed": false
   },
   "outputs": [
    {
     "name": "stdout",
     "output_type": "stream",
     "text": [
      "0.4210472764645426\n"
     ]
    }
   ],
   "source": [
    "sp = (P_0 * n_0 + P_1 * n_1) / (n_1 + n_0)\n",
    "print (sp)"
   ]
  },
  {
   "cell_type": "code",
   "execution_count": 15,
   "metadata": {
    "collapsed": true
   },
   "outputs": [],
   "source": [
    "p = lambda p0, p1, n0, n1: (p0 * n0 + p1 * n1) / (n0 + n1)\n",
    "se = lambda p, n0, n1: np.sqrt(p * (1 - p) * (1.0 / n0 + 1.0 / n1)) "
   ]
  },
  {
   "cell_type": "code",
   "execution_count": 16,
   "metadata": {
    "collapsed": false
   },
   "outputs": [
    {
     "name": "stdout",
     "output_type": "stream",
     "text": [
      "20.7697865408\n"
     ]
    }
   ],
   "source": [
    "zscore = lambda p0, p1, s : (p0 - p1) / s\n",
    "z_2y = zscore(P_1, P_0, se(p(P_0, P_1, n_0, n_1), n_0, n_1))\n",
    "print (z_2y)"
   ]
  },
  {
   "cell_type": "code",
   "execution_count": 17,
   "metadata": {
    "collapsed": false
   },
   "outputs": [
    {
     "name": "stdout",
     "output_type": "stream",
     "text": [
      "is the p value 0.00 smaller than the critical value 0.05?\n",
      "YES!\n",
      "the Null hypothesis is rejected\n"
     ]
    }
   ],
   "source": [
    "p_2y = 1 - 0.9998\n",
    "\n",
    "\n",
    "def report_result(p,a):\n",
    "    print ('is the p value ' + \n",
    "           '{0:.2f} smaller than the critical value {1:.2f}?'.format(p,a))\n",
    "    if p < a:\n",
    "        print (\"YES!\")\n",
    "    else: \n",
    "        print (\"NO!\")\n",
    "    \n",
    "    print ('the Null hypothesis is {}'.format(\\\n",
    "                            'rejected' if p < a  else 'not rejected') )\n",
    "\n",
    "    \n",
    "report_result(p_2y, alpha)"
   ]
  },
  {
   "cell_type": "markdown",
   "metadata": {},
   "source": [
    "## Values for where the former inmate was or was not \"Convicted of a felony\" (row 10) in the Recidivism (Years 1-3) "
   ]
  },
  {
   "cell_type": "markdown",
   "metadata": {},
   "source": [
    "## Null hypothesis: the % of former prisoners convicted in felony after release is the same or lower for candidates who participated in the program as for the control group, significance level p=0.05"
   ]
  },
  {
   "cell_type": "markdown",
   "metadata": {},
   "source": [
    "## $H_0: P_0 - P_1 \\geq$ 0\n",
    "\n",
    "## $H_a: P_0 - P_1 $< 0\n"
   ]
  },
  {
   "cell_type": "markdown",
   "metadata": {},
   "source": [
    "$\\alpha$ = 0.05"
   ]
  },
  {
   "cell_type": "markdown",
   "metadata": {},
   "source": [
    "$P_0=0.117,  P_1=0.1$"
   ]
  },
  {
   "cell_type": "code",
   "execution_count": 18,
   "metadata": {
    "collapsed": false
   },
   "outputs": [
    {
     "name": "stdout",
     "output_type": "stream",
     "text": [
      "the Null holds\n"
     ]
    }
   ],
   "source": [
    "alpha=0.05\n",
    "P_0 = 11.7 * 0.01 \n",
    "P_1 = 10.0 * 0.01\n",
    "\n",
    "if P_0-P_1 >= 0:\n",
    "    print (\"the Null holds\")\n",
    "else:\n",
    "    print (\"we must assess the statistical significance\")\n",
    "\n",
    "n_0 = 409\n",
    "n_1 = 568\n",
    "\n",
    "Nt_0 = P_0 * n_0\n",
    "Nt_1 = P_1 * n_1\n"
   ]
  },
  {
   "cell_type": "code",
   "execution_count": 19,
   "metadata": {
    "collapsed": false
   },
   "outputs": [
    {
     "name": "stdout",
     "output_type": "stream",
     "text": [
      "20.7697865408\n"
     ]
    }
   ],
   "source": [
    "z_3y = zscore(P_1, P_0, se(p(P_0, P_1, n_0, n_1), n_0, n_1))\n",
    "print (z_2y)"
   ]
  },
  {
   "cell_type": "markdown",
   "metadata": {},
   "source": [
    "## p-value = 1-P"
   ]
  },
  {
   "cell_type": "markdown",
   "metadata": {},
   "source": [
    "### p-value (convicted of a felony) = 0.419\n",
    "\n",
    "### P = 1 - 0.419 \n",
    "\n",
    "### P = 0.581\n",
    "\n",
    "### 0.581 > alpha (0.05)\n",
    "\n",
    "### p-value is higher than  the critical value 0.05, therefore, the Null hypothesis is not rejected"
   ]
  },
  {
   "cell_type": "markdown",
   "metadata": {},
   "source": [
    "## Chi sq stastistics for \"Convicted of a fellony\""
   ]
  },
  {
   "cell_type": "markdown",
   "metadata": {},
   "source": [
    "\n",
    "| convicted of a fellony\t|   yes  |   no |  Total  |  \n",
    "|:----------:|:----------|:------------|:-------------|:-------------|:------------|:------------- |:------------------|:----:|:-------:|:-------|\n",
    "\t| test sample | 0.1 * 568 | 0.9 * 568 | 568 | \n",
    "|control sample| 0.117 * 409 | 0.883 * 409 | 409 |\n",
    "|Total | 104.653 | 872.347 |977 |"
   ]
  },
  {
   "cell_type": "code",
   "execution_count": null,
   "metadata": {
    "collapsed": true
   },
   "outputs": [],
   "source": []
  }
 ],
 "metadata": {
  "kernelspec": {
   "display_name": "PUI2016_Python3",
   "language": "python",
   "name": "pui2016_python3"
  },
  "language_info": {
   "codemirror_mode": {
    "name": "ipython",
    "version": 3
   },
   "file_extension": ".py",
   "mimetype": "text/x-python",
   "name": "python",
   "nbconvert_exporter": "python",
   "pygments_lexer": "ipython3",
   "version": "3.5.2"
  }
 },
 "nbformat": 4,
 "nbformat_minor": 0
}
